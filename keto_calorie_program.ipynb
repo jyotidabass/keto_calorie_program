{
  "nbformat": 4,
  "nbformat_minor": 0,
  "metadata": {
    "colab": {
      "name": "keto_calorie program.ipynb",
      "provenance": [],
      "authorship_tag": "ABX9TyPbUfONrzgUGL3MHkrWrAsW",
      "include_colab_link": true
    },
    "kernelspec": {
      "name": "python3",
      "display_name": "Python 3"
    },
    "language_info": {
      "name": "python"
    }
  },
  "cells": [
    {
      "cell_type": "markdown",
      "metadata": {
        "id": "view-in-github",
        "colab_type": "text"
      },
      "source": [
        "<a href=\"https://colab.research.google.com/github/jyotidabass/keto_calorie_program/blob/main/keto_calorie_program.ipynb\" target=\"_parent\"><img src=\"https://colab.research.google.com/assets/colab-badge.svg\" alt=\"Open In Colab\"/></a>"
      ]
    },
    {
      "cell_type": "code",
      "source": [
        "#Testing how to call key/values in nested dictionaries\n",
        "\n",
        "food = {\n",
        "    'chicken': {'serve': '4oz', 'cal': 140, 'fat': 3, 'pro': 24, 'carb': 0,},\n",
        "    'egg': {'serve': '1 egg', 'cal': 74, 'fat': 1, 'pro': 17, 'carb': 0,},\n",
        "    'bacon': {'serve': '2 slices', 'cal': 180, 'fat': 8, 'pro': 20, 'carb': 0,},\n",
        "}\n",
        "print(food['chicken']['fat'])\n",
        "\n",
        "cal_stat = []\n",
        "fat_stat = []\n",
        "pro_stat = []\n",
        "carb_stat = []\n",
        "\n",
        "meal_complete = False\n",
        "\n",
        "#create a function that adds the nutrient values of an ingrediennt to the blanks lists for each nutrient value type\n",
        "\n",
        "def food_stats(ingredient):\n",
        "    if eat == 'chicken':\n",
        "        cal_stat.append(food['chicken']['cal']*serving)\n",
        "        fat_stat.append(food['chicken']['fat']*serving)\n",
        "        pro_stat.append(food['chicken']['pro']*serving)\n",
        "        carb_stat.append(food['chicken']['carb']*serving)\n",
        "    elif eat == 'egg':\n",
        "        cal_stat.append(food['egg']['cal']*serving)\n",
        "        fat_stat.append(food['egg']['fat']*serving)\n",
        "        pro_stat.append(food['egg']['pro']*serving)\n",
        "        carb_stat.append(food['egg']['carb']*serving)\n",
        "\n",
        "# run a while loop that calls the food_stats function, adding the vlaues from the nested list to later group then add the same nutrient values from diffrent foods\n",
        "print(\"Type 'q' at any prompt to quit program.\")\n",
        "\n",
        "while not meal_complete:\n",
        "    eat = input(\"Food: \")\n",
        "    print(f\"Serving size: {food[eat]['serve']}\")\n",
        "    serving = int(input(\"Serving: \"))\n",
        "    another = input(\"Another ingredient (y/n)? \")\n",
        "    food_stats(eat)\n",
        "    if another == 'y':\n",
        "        continue\n",
        "    elif another == 'n':\n",
        "        meal_complete = True\n",
        "    elif eat == 'q' or serving == 'q' or another == 'q':\n",
        "        break\n",
        "\n",
        "\n",
        "print(f\"The total calories are {sum(cal_stat)}.\")\n",
        "print(f\"The total grams of fat is {sum(fat_stat)}g.\")\n",
        "print(f\"The total grams of protein are {sum(pro_stat)}g.\")\n",
        "print(f\"The total grams of carbs are {sum(carb_stat)}g.\")"
      ],
      "metadata": {
        "colab": {
          "base_uri": "https://localhost:8080/"
        },
        "id": "ObE3s0cqB1jv",
        "outputId": "4f53c9ef-1c91-4c1f-c31d-e9f1622dd899"
      },
      "execution_count": 6,
      "outputs": [
        {
          "output_type": "stream",
          "name": "stdout",
          "text": [
            "3\n",
            "Type 'q' at any prompt to quit program.\n",
            "Food: egg\n",
            "Serving size: 1 egg\n",
            "Serving: 2\n",
            "Another ingredient (y/n)? n\n",
            "The total calories are 148.\n",
            "The total grams of fat is 2g.\n",
            "The total grams of protein are 34g.\n",
            "The total grams of carbs are 0g.\n"
          ]
        }
      ]
    }
  ]
}